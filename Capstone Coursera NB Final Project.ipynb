{
    "nbformat_minor": 1, 
    "cells": [
        {
            "source": "# Introduction/Business Problem", 
            "cell_type": "markdown", 
            "metadata": {
                "collapsed": true
            }
        }, 
        {
            "source": "I want to create a tool that can help me open a franchise of restaurants serving niche, ethnic communities usually located in just one city neighborhood. I would like to show a group of investors why this location adn this cuisine makes sense. I first need to make a go/no-go decision based on crime rates in each of these areas. I only want to open a restaurant in a low-crime area. If the crime rate is low, I want to pick a cuisine that is underserved in that community (using Foursquare data). This capstone project will test this tool in Toronto and Pittsburgh.", 
            "cell_type": "markdown", 
            "metadata": {}
        }, 
        {
            "source": "# Data", 
            "cell_type": "markdown", 
            "metadata": {}
        }, 
        {
            "source": "The crime rate data to be used for a go/no-go decision will come from [Toronto Crime Stats](http://data.torontopolice.on.ca/datasets/neighbourhood-crime-rates-boundary-file-/data \"Toronto Crime\") and [Pittsburgh crime reports](https://www.areavibes.com/pittsburgh-pa/squirrel+hill+north/crime/ \"Pittsburgh crime\"). If the crime rate is below a certain threshhold (likely half of surrounding area), I will use the FourSquare API to plot the frequency of restaurants. I'll collapse the (likely several hundred) types into roll-up categories (e.g. Pizza, Asian, American, etc) for my choice, driven by one or more ML algorithms. \n\nThe crime data will be reduced to an index per 100K people for the neighborhoods I am considering. That will be compared to total crime in each city (either provided in the above links, or calculated in aggregate). \n\nRestaurant roll-ups will be based on regional cuisine. These roll-ups will be used in ML algorithm to choose a type of cuisine.", 
            "cell_type": "markdown", 
            "metadata": {}
        }, 
        {
            "execution_count": null, 
            "cell_type": "code", 
            "metadata": {}, 
            "outputs": [], 
            "source": ""
        }
    ], 
    "metadata": {
        "kernelspec": {
            "display_name": "Python 3.5", 
            "name": "python3", 
            "language": "python"
        }, 
        "language_info": {
            "mimetype": "text/x-python", 
            "nbconvert_exporter": "python", 
            "version": "3.5.5", 
            "name": "python", 
            "file_extension": ".py", 
            "pygments_lexer": "ipython3", 
            "codemirror_mode": {
                "version": 3, 
                "name": "ipython"
            }
        }
    }, 
    "nbformat": 4
}